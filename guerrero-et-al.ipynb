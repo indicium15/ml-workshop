{
 "cells": [
  {
   "cell_type": "markdown",
   "id": "255feab3",
   "metadata": {
    "id": "255feab3"
   },
   "source": [
    "[![Open In Colab](https://colab.research.google.com/assets/colab-badge.svg)](https://colab.research.google.com/github/indicium15/ml-workshop/blob/main/guerrero-et-al.ipynb)"
   ]
  },
  {
   "cell_type": "code",
   "execution_count": null,
   "id": "e421cc29",
   "metadata": {
    "colab": {
     "base_uri": "https://localhost:8080/"
    },
    "id": "e421cc29",
    "jupyter": {
     "is_executing": true
    },
    "outputId": "48e4ac32-7730-48fb-808d-74018669cbd9"
   },
   "outputs": [],
   "source": [
    "! pip install pandas numpy openpyxl scikit-learn matplotlib seaborn gdown"
   ]
  },
  {
   "cell_type": "code",
   "execution_count": null,
   "id": "510b9a98",
   "metadata": {
    "colab": {
     "base_uri": "https://localhost:8080/",
     "height": 35
    },
    "id": "510b9a98",
    "outputId": "a97b3d6c-c0c3-42de-af08-0ad891af404e"
   },
   "outputs": [],
   "source": [
    "# Download Data from Google Drive\n",
    "import gdown\n",
    "import os\n",
    "# Make sure data folder exists\n",
    "os.makedirs(\"data\", exist_ok=True)\n",
    "# Google Drive file ID\n",
    "excel_file_id = \"1p195_dWUin95MP8oZEpa_rFDKeVighQmhUtzo45gzns\"\n",
    "pdf_file_id = \"1jKC_mAWeSCvrPeTyLJaMi5w90_axClsH\"\n",
    "# Download to data/ folder\n",
    "gdown.download(id=excel_file_id, output=\"data/guerrero-et-al-data.xlsx\", quiet=True)\n",
    "gdown.download(id=pdf_file_id, output=\"data/guerrero-et-al.pdf\", quiet=True)"
   ]
  },
  {
   "cell_type": "code",
   "execution_count": null,
   "id": "8c56a794d5cd50e5",
   "metadata": {
    "ExecuteTime": {
     "end_time": "2025-08-05T06:15:14.714636Z",
     "start_time": "2025-08-05T06:15:14.218582Z"
    },
    "id": "8c56a794d5cd50e5"
   },
   "outputs": [],
   "source": [
    "import pandas as pd\n",
    "import numpy as np\n",
    "from sklearn.model_selection import train_test_split\n",
    "from sklearn.tree import DecisionTreeRegressor, DecisionTreeClassifier, plot_tree\n",
    "from sklearn.metrics import mean_squared_error, accuracy_score, classification_report\n",
    "import matplotlib.pyplot as plt"
   ]
  },
  {
   "cell_type": "code",
   "execution_count": null,
   "id": "f6328ab4544458b6",
   "metadata": {
    "ExecuteTime": {
     "end_time": "2025-08-05T06:33:55.338883Z",
     "start_time": "2025-08-05T06:33:54.523576Z"
    },
    "colab": {
     "base_uri": "https://localhost:8080/",
     "height": 288
    },
    "id": "f6328ab4544458b6",
    "outputId": "4e5b8f65-20ea-4704-bf6e-21f0652b616f"
   },
   "outputs": [],
   "source": [
    "# === Step 1: Load Data ===\n",
    "# Replace this with your actual CSV file\n",
    "df = pd.read_excel(\"./data/guerrero-et-al-data.xlsx\", sheet_name=\"normalized\")\n",
    "df = df.iloc[:, 3:]\n",
    "df = df.fillna(0)\n",
    "df.head()"
   ]
  },
  {
   "cell_type": "code",
   "execution_count": null,
   "id": "54ae36e1c70dd6d8",
   "metadata": {
    "ExecuteTime": {
     "end_time": "2025-08-05T06:33:58.478659Z",
     "start_time": "2025-08-05T06:33:58.475119Z"
    },
    "colab": {
     "base_uri": "https://localhost:8080/"
    },
    "id": "54ae36e1c70dd6d8",
    "outputId": "03ff4650-484a-47d8-cbca-47348a5c2f6a"
   },
   "outputs": [],
   "source": [
    "for col in df.columns.to_list():\n",
    "    print(col)"
   ]
  },
  {
   "cell_type": "code",
   "execution_count": null,
   "id": "a34c46fda1dc2719",
   "metadata": {
    "ExecuteTime": {
     "end_time": "2025-08-05T06:34:00.243992Z",
     "start_time": "2025-08-05T06:34:00.235182Z"
    },
    "colab": {
     "base_uri": "https://localhost:8080/",
     "height": 288
    },
    "id": "a34c46fda1dc2719",
    "outputId": "a05c5b5b-a11e-4d75-9a50-022466cf6266"
   },
   "outputs": [],
   "source": [
    "df['Average physical activity'] = (df['Child average time spent on household chores'] + df['Child total time spent on physical play (indoor & outdoor)'])/2\n",
    "df.head()"
   ]
  },
  {
   "cell_type": "code",
   "execution_count": null,
   "id": "b6e5c4242273f201",
   "metadata": {
    "ExecuteTime": {
     "end_time": "2025-08-05T06:34:01.827761Z",
     "start_time": "2025-08-05T06:34:01.824179Z"
    },
    "id": "b6e5c4242273f201"
   },
   "outputs": [],
   "source": [
    "# === Step 3: Define Predictors and Target ===\n",
    "# Replace with your actual column names\n",
    "\n",
    "predictor_cols = [\n",
    "    'Average physical activity',        # example physical activity\n",
    "    'Child average total media use',      # screen time\n",
    "    'Average sleep duration'    # sleep duration\n",
    "]\n",
    "\n",
    "target_col = 'Total Health QofL'  # Replace with your actual target column"
   ]
  },
  {
   "cell_type": "code",
   "execution_count": null,
   "id": "b2c30118df897d27",
   "metadata": {
    "ExecuteTime": {
     "end_time": "2025-08-05T06:42:49.864027Z",
     "start_time": "2025-08-05T06:42:49.859271Z"
    },
    "id": "b2c30118df897d27"
   },
   "outputs": [],
   "source": [
    "# === Step 4: Clean Data ===\n",
    "\n",
    "df = df.dropna(subset=predictor_cols + [target_col])\n",
    "\n",
    "# Optional: Convert QoL_score to multiple categories (for classification)\n",
    "# Use this block if you want a classification tree (e.g. Low/Medium/High QoL)\n",
    "def convert_to_categories(score):\n",
    "    if score < 65:\n",
    "        return 'Low'\n",
    "    elif score < 85:\n",
    "        return 'Medium'\n",
    "    else:\n",
    "        return 'High'\n",
    "\n",
    "df['QoL_category'] = df[target_col].apply(convert_to_categories)"
   ]
  },
  {
   "cell_type": "code",
   "execution_count": null,
   "id": "9edc5c4dc1cf280a",
   "metadata": {
    "ExecuteTime": {
     "end_time": "2025-08-05T06:42:51.447485Z",
     "start_time": "2025-08-05T06:42:51.442335Z"
    },
    "id": "9edc5c4dc1cf280a"
   },
   "outputs": [],
   "source": [
    "# === Step 5: Split into Train/Test ===\n",
    "\n",
    "X = df[predictor_cols]\n",
    "\n",
    "# Choose either y_reg (for regression) or y_class (for classification)\n",
    "y_reg = df[target_col]\n",
    "y_class = df['QoL_category']\n",
    "\n",
    "X_train, X_test, y_train_reg, y_test_reg = train_test_split(X, y_reg, test_size=0.2, random_state=42)\n",
    "_, _, y_train_class, y_test_class = train_test_split(X, y_class, test_size=0.2, random_state=42)"
   ]
  },
  {
   "cell_type": "code",
   "execution_count": null,
   "id": "4747c959d0bddf02",
   "metadata": {
    "ExecuteTime": {
     "end_time": "2025-08-05T06:42:52.672158Z",
     "start_time": "2025-08-05T06:42:52.662259Z"
    },
    "colab": {
     "base_uri": "https://localhost:8080/",
     "height": 80
    },
    "id": "4747c959d0bddf02",
    "outputId": "bb3706c3-5e9a-49e8-f3a3-13e730e012b5"
   },
   "outputs": [],
   "source": [
    "# === Step 5a: Train Regression Tree ===\n",
    "reg_tree = DecisionTreeRegressor(max_depth=4, random_state=42)\n",
    "reg_tree.fit(X_train, y_train_reg)\n",
    "\n",
    "# === Step 5b: Train Classification Tree ===\n",
    "class_tree = DecisionTreeClassifier(max_depth=4, random_state=42)\n",
    "class_tree.fit(X_train, y_train_class)"
   ]
  },
  {
   "cell_type": "code",
   "execution_count": null,
   "id": "c642c49db46cf3e3",
   "metadata": {
    "ExecuteTime": {
     "end_time": "2025-08-05T06:42:54.066959Z",
     "start_time": "2025-08-05T06:42:54.056265Z"
    },
    "colab": {
     "base_uri": "https://localhost:8080/"
    },
    "id": "c642c49db46cf3e3",
    "outputId": "64bbb1bc-1ff7-4f47-f019-e42f2d109b12"
   },
   "outputs": [],
   "source": [
    "# === Step 6a: Evaluate Regression ===\n",
    "\n",
    "y_pred_reg = reg_tree.predict(X_test)\n",
    "rmse = mean_squared_error(y_test_reg, y_pred_reg)\n",
    "print(\"Regression RMSE:\", rmse)\n",
    "\n",
    "# === Step 6b: Evaluate Classification ===\n",
    "y_pred_class = class_tree.predict(X_test)\n",
    "acc = accuracy_score(y_test_class, y_pred_class)\n",
    "print(\"Classification Accuracy:\", acc)\n",
    "print(\"Classification Report:\\n\", classification_report(y_test_class, y_pred_class))"
   ]
  },
  {
   "cell_type": "code",
   "execution_count": null,
   "id": "1f8e9fd334c6df5d",
   "metadata": {
    "colab": {
     "base_uri": "https://localhost:8080/",
     "height": 1000
    },
    "id": "1f8e9fd334c6df5d",
    "jupyter": {
     "is_executing": true
    },
    "outputId": "35090eee-2fd3-4c69-d6fa-4b1657def6a1"
   },
   "outputs": [],
   "source": [
    "# === Step 7: Visualise the Trees ===\n",
    "\n",
    "# Regression Tree\n",
    "plt.rcParams['figure.dpi'] = 300\n",
    "plt.figure(figsize=(24, 12))\n",
    "plot_tree(reg_tree, feature_names=predictor_cols, filled=True)\n",
    "plt.title(\"Decision Tree (Regression)\")\n",
    "plt.show()"
   ]
  },
  {
   "cell_type": "code",
   "execution_count": null,
   "id": "f802d0ef916910cc",
   "metadata": {},
   "outputs": [],
   "source": [
    "# Classification Tree\n",
    "plt.rcParams['figure.dpi'] = 300\n",
    "plt.figure(figsize=(24, 12))\n",
    "plot_tree(class_tree, feature_names=predictor_cols, class_names=class_tree.classes_, filled=True)\n",
    "plt.title(\"Decision Tree (Classification)\")\n",
    "plt.show()"
   ]
  },
  {
   "cell_type": "code",
   "execution_count": null,
   "id": "ec2ad092eaf91ef0",
   "metadata": {
    "ExecuteTime": {
     "end_time": "2025-08-05T06:37:44.648264Z",
     "start_time": "2025-08-05T06:37:44.643408Z"
    },
    "colab": {
     "base_uri": "https://localhost:8080/"
    },
    "id": "ec2ad092eaf91ef0",
    "outputId": "f5882f8a-dc62-425b-f68d-bc157e35e51e"
   },
   "outputs": [],
   "source": [
    "# === Step 8: Feature Importance ===\n",
    "print(\"\\nFeature Importance (Regression):\")\n",
    "print(pd.Series(reg_tree.feature_importances_, index=predictor_cols).sort_values(ascending=False))\n",
    "\n",
    "print(\"\\nFeature Importance (Classification):\")\n",
    "print(pd.Series(class_tree.feature_importances_, index=predictor_cols).sort_values(ascending=False))"
   ]
  }
 ],
 "metadata": {
  "colab": {
   "provenance": []
  },
  "kernelspec": {
   "display_name": ".venv",
   "language": "python",
   "name": "python3"
  },
  "language_info": {
   "codemirror_mode": {
    "name": "ipython",
    "version": 3
   },
   "file_extension": ".py",
   "mimetype": "text/x-python",
   "name": "python",
   "nbconvert_exporter": "python",
   "pygments_lexer": "ipython3",
   "version": "3.13.2"
  }
 },
 "nbformat": 4,
 "nbformat_minor": 5
}
